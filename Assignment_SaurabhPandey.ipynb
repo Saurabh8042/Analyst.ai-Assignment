{
  "nbformat": 4,
  "nbformat_minor": 0,
  "metadata": {
    "colab": {
      "provenance": []
    },
    "kernelspec": {
      "name": "python3",
      "display_name": "Python 3"
    },
    "language_info": {
      "name": "python"
    }
  },
  "cells": [
    {
      "cell_type": "markdown",
      "source": [
        "# **Assignment - Analystt.ai**"
      ],
      "metadata": {
        "id": "3bjdRLGfZjAy"
      }
    },
    {
      "cell_type": "markdown",
      "source": [
        "**1. A developer is assigned a task to scrape 1 lakh website pages from a directory site, while scrapping he is facing such hcaptcha, which are placed to stop people from scrapping As a project Coordinator suggest ways to solve this problem.**"
      ],
      "metadata": {
        "id": "qs11gxXOYcVF"
      }
    },
    {
      "cell_type": "markdown",
      "source": [
        "To address this issue of encountering hCaptcha challenges while scraping a large number of website pages from a directory site, As a project coordinator, I can consider the following solutions:\n",
        "\n",
        "1:**Avoid Scraping During Peak Hours:** Analyse the website's traffic patterns and avoid scraping during peak traffic hours, which can reduce the chances of encountering hCaptcha challenges.\n",
        "\n",
        "2: **Use Captcha Solvers:** Consider using Captcha solving services or tools that can automatically solve hCaptchas.\n",
        "\n",
        "3:**Use Headless Browsers:** Employ headless browsers like Puppeteer or Selenium to interact with the website's content in such a way that mimics human browsing behavior. This can help in solving hCaptcha challenges as they would appear to a real user.\n",
        "\n",
        "4: **Rotate IP Addresses:** Implement a rotation of IP Addresses or use proxy servers to bypass hCaptcha. This can help distribute the scraping workload and make it harder for the website to detect and block scraping activities.\n",
        "\n",
        "5: **Adjust Scraping Rate:** Modify the rate of sending requests to the website. Slowing down the scraping process may reduce the likelihood of encountering hCaptcha challenges."
      ],
      "metadata": {
        "id": "nDxwvswXZhSc"
      }
    },
    {
      "cell_type": "markdown",
      "source": [
        "\n",
        " **2**. **Our client has around 10k linkedin people profiles, he wants to know the estimated income range of these profiles. Suggest ways on how to do this?**\n"
      ],
      "metadata": {
        "id": "JDMVWoW5eI4R"
      }
    },
    {
      "cell_type": "markdown",
      "source": [
        "Estimating the income range of Linkedin profiles can be a challenging task, as Linkedin doesn't provide specific income information. However we can use various data-driven approaches and assumptions to make an educated estimate.\n",
        "\n",
        "1: **Job Title Analysis:** Analyse the job titles and industries of Linkedin profiles. Certain job titles and industries tend to have specific income ranges associated with them. We can use industry-specific salary surveys and data to estimate income ranges for different professions.\n",
        "\n",
        "2: **Experience Level:** Analyse the years of experience mentioned in the profiles. More experience often correlates with higher income. Refer to industry data or surveys to estimate income ranges based on years of experience.\n",
        "\n",
        "3: **Company and Industry Data:** Research the companies and industries that these Linkedin profiles are associated with. Some companies and industries pay more competitively than others. We can use industry specific salary surveys to estimate income ranges.\n",
        "\n",
        "4: **Geographic Data:** Consider the geographic location of the profiles. In many cases, the cost of living varies significantly by region, which can impact income. Use cost of living calculators to estimate income ranges based on the location of profiles.\n",
        "\n",
        "5: **Machine Learning Models:** Develop machine learning model that predicts income based on available Linkedin profile information. We would need a labeled dataset to train such a model, which might not be readily available."
      ],
      "metadata": {
        "id": "BT0pyHVed_8T"
      }
    },
    {
      "cell_type": "markdown",
      "source": [
        " **3. We have a list of 1L company names, need to find linkedin company links of these profiles, how to go about this?**"
      ],
      "metadata": {
        "id": "1AvOU7mhleq0"
      }
    },
    {
      "cell_type": "markdown",
      "source": [
        "To find Linkdin company profiles for a list of 1L company names, we can use a combination of manual and automated approaches.\n",
        "\n",
        "1: **Manual Search:** Start with manual search on linkdin to find company profiles by entering each companu name one by one in the Linkedin search bar.\n",
        "\n",
        "Note down the URLs of the Linkedin company pages for each company in the list.\n",
        "\n",
        "2: **Linkedin Company API:** Check if Linkedin provides an API for company data access. If available, we can use this API to fetch company profiles programatically.\n",
        "\n",
        "3: **Use Web Scraping:** Develop a web scraping script using a programming language like Python. We can use libraries like BeautifulSoap and requests to automate the process\n",
        "\n",
        "For each company name in the search list, construct a search URL, send an HTTP request to Linkedin, and parse the HTML response to extract the Linkedin company profile link.\n",
        "\n",
        "4: **Combination of Manual and Automation:** Due to potential challenges and limitations related to web scraping Linkedin, consider a combination of manual and automated approaches. Manually search for well known companies and use automation for the rest."
      ],
      "metadata": {
        "id": "ylZintTrl5mP"
      }
    },
    {
      "cell_type": "markdown",
      "source": [
        " 4. **How to identify list of companies whose tech stack is built on Python. Give names of 5 companies if possible, by your suggested approach**"
      ],
      "metadata": {
        "id": "fFm0gn9BpxTn"
      }
    },
    {
      "cell_type": "markdown",
      "source": [
        "Identifying a list of companies whose tech and stack built on Python can be challenging, as companies often don't publicly disclose their entire tech stack. However, as a business analyst, I can use several approaches to identify some companies that are likely to use Python in their stack.\n",
        "\n",
        "1: **Job Posting:** Many companies post job listings on their websites or on job boards like Linkedin, Glassdoor or Indeed. Search for job postings that mention Python as a required or preferred skill. This can provide insights into companies using Python in their tech stack.\n",
        "\n",
        "2: **Linkedin:** We can use Linkedin's advance search feature to find professionals who list python as one of their skills. This can lead to companies where employees have Python expertise. Additionally, we can explore company pages to see if they mention Python in their technology stack."
      ],
      "metadata": {
        "id": "O7Nbi2idsBBy"
      }
    },
    {
      "cell_type": "markdown",
      "source": [
        "\n",
        "**5. Need to find an API, through which we can send linkedin messages to other linkedin users**"
      ],
      "metadata": {
        "id": "qVJ3PZJgxS0M"
      }
    },
    {
      "cell_type": "markdown",
      "source": [
        "Linkedin does not provide a public API for sending automated messeges or connection requests to other Linkedin users."
      ],
      "metadata": {
        "id": "GXQbn8ZRxWp2"
      }
    }
  ]
}